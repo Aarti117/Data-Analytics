{
  "nbformat": 4,
  "nbformat_minor": 0,
  "metadata": {
    "colab": {
      "provenance": [],
      "authorship_tag": "ABX9TyMpqcjcPQGb0I0K+w5iRpZq",
      "include_colab_link": true
    },
    "kernelspec": {
      "name": "python3",
      "display_name": "Python 3"
    },
    "language_info": {
      "name": "python"
    }
  },
  "cells": [
    {
      "cell_type": "markdown",
      "metadata": {
        "id": "view-in-github",
        "colab_type": "text"
      },
      "source": [
        "<a href=\"https://colab.research.google.com/github/Aarti117/Data-Analytics/blob/main/web_scraping.ipynb\" target=\"_parent\"><img src=\"https://colab.research.google.com/assets/colab-badge.svg\" alt=\"Open In Colab\"/></a>"
      ]
    },
    {
      "cell_type": "code",
      "execution_count": 1,
      "metadata": {
        "id": "53groUbJ0dtt"
      },
      "outputs": [],
      "source": [
        "import requests\n",
        "from bs4 import BeautifulSoup\n",
        "import pandas as pd\n",
        "\n",
        "# Scrape data\n",
        "url = \"http://quotes.toscrape.com/\"\n",
        "response = requests.get(url)\n",
        "soup = BeautifulSoup(response.text, \"html.parser\")\n",
        "\n",
        "# Extract quotes\n",
        "data = []\n",
        "for quote in soup.find_all(\"div\", class_=\"quote\"):\n",
        "    text = quote.find(\"span\", class_=\"text\").text\n",
        "    author = quote.find(\"small\", class_=\"author\").text\n",
        "    tags = [tag.text for tag in quote.find_all(\"a\", class_=\"tag\")]\n",
        "    data.append({\"Quote\": text, \"Author\": author, \"Tags\": \", \".join(tags)})\n",
        "\n",
        "# Save to Excel\n",
        "df = pd.DataFrame(data)\n",
        "df.to_excel(\"quotes_data.xlsx\", index=False)"
      ]
    },
    {
      "cell_type": "code",
      "source": [
        "import sqlite3\n",
        "\n",
        "# Connect to SQLite DB\n",
        "conn = sqlite3.connect('quotes.db')\n",
        "df.to_sql('Quotes', conn, if_exists='replace', index=False)\n",
        "\n",
        "# Example Query\n",
        "cursor = conn.cursor()\n",
        "cursor.execute(\"SELECT * FROM Quotes LIMIT 5\")\n",
        "print(cursor.fetchall())\n",
        "conn.close()"
      ],
      "metadata": {
        "colab": {
          "base_uri": "https://localhost:8080/"
        },
        "id": "mtIHzneq1-wM",
        "outputId": "9e99eb1b-693e-4904-9057-2ce3922d2b1a"
      },
      "execution_count": null,
      "outputs": [
        {
          "output_type": "stream",
          "name": "stdout",
          "text": [
            "[('“The world as we have created it is a process of our thinking. It cannot be changed without changing our thinking.”', 'Albert Einstein', 'change, deep-thoughts, thinking, world'), ('“It is our choices, Harry, that show what we truly are, far more than our abilities.”', 'J.K. Rowling', 'abilities, choices'), ('“There are only two ways to live your life. One is as though nothing is a miracle. The other is as though everything is a miracle.”', 'Albert Einstein', 'inspirational, life, live, miracle, miracles'), ('“The person, be it gentleman or lady, who has not pleasure in a good novel, must be intolerably stupid.”', 'Jane Austen', 'aliteracy, books, classic, humor'), (\"“Imperfection is beauty, madness is genius and it's better to be absolutely ridiculous than absolutely boring.”\", 'Marilyn Monroe', 'be-yourself, inspirational')]\n"
          ]
        }
      ]
    },
    {
      "cell_type": "markdown",
      "source": [],
      "metadata": {
        "id": "rTN4Otcd2qBS"
      }
    },
    {
      "cell_type": "code",
      "source": [],
      "metadata": {
        "id": "8B-SfBo_2rGj"
      },
      "execution_count": null,
      "outputs": []
    }
  ]
}